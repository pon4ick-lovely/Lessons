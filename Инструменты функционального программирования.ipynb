{
 "cells": [
  {
   "cell_type": "markdown",
   "id": "0aa74c95-dd24-4506-8be4-dfd68e8987a5",
   "metadata": {},
   "source": [
    "# Инструменты функционального программирования"
   ]
  },
  {
   "cell_type": "markdown",
   "id": "ea5295cb-9bef-4c90-92c6-d5ac885c847d",
   "metadata": {},
   "source": [
    "## Различия между функциональным и объектно-ориентированным программированием\n",
    "\n",
    "Функциональное программирование (FP) и объектно-ориентированное программирование (ООП) — это два различных парадигмы программирования, которые можно использовать в Python. \n",
    "\n",
    "### Основные понятия\n",
    "\n",
    "Объектно-ориентированное программирование (ООП):\n",
    "   - Основные принципы: инкапсуляция, наследование, полиморфизм.\n",
    "   - Основные единицы: классы и объекты.\n",
    "   - Цель: моделирование реальных объектов и их взаимодействий, использование объектов для хранения состояния и поведения.\n",
    "\n",
    "\n",
    "Функциональное программирование (FP):\n",
    "   - Основные принципы: функции первого класса, отсутствие состояния, иммутабельность, чистые функции.\n",
    "   - Основные единицы: функции.\n",
    "   - Цель: написание программ путем составления и комбинирования функций, минимизация побочных эффектов.\n",
    "\n",
    "### Основные различия\n",
    "\n",
    "1. Структура и организация кода:\n",
    "   - ООП: Код организован вокруг объектов и классов. Методы и атрибуты сгруппированы внутри классов.\n",
    "   - FP: Код организован вокруг функций. Программы состоят из набора функций, которые вызывают друг друга.\n",
    "\n",
    ".\n",
    "\n",
    "2. Состояние и данные:\n",
    "   - ООП: Объекты хранят состояние в виде атрибутов. Состояние может изменяться методами объектов.\n",
    "   - FP: Избегается изменение состояния. Данные, как правило, иммутабельны, и функции работают с ними, возвращая новые значения.\n",
    "\n",
    ".\n",
    "\n",
    "3. Побочные эффекты:\n",
    "   - ООП: Методы объектов могут изменять состояние объекта и вызывать побочные эффекты.\n",
    "   - FP: Стремится к написанию чистых функций, которые не изменяют состояние и не имеют побочных эффектов.\n",
    "\n",
    ".\n",
    "\n",
    "4. Абстракция и переиспользование:\n",
    "   - ООП: Использует наследование и полиморфизм для создания иерархий классов и переиспользования кода.\n",
    "   - FP: Использует высшие функции и композицию функций для переиспользования кода.\n",
    "\n",
    "### Преимущества и недостатки\n",
    "\n",
    "1. ООП:\n",
    "   - Преимущества:\n",
    "     - Хорошо подходит для моделирования сложных систем с объектами и их взаимодействиями.\n",
    "     - Легко понять и использовать инкапсуляцию для управления состоянием.\n",
    "     - Поддержка полиморфизма и наследования облегчает создание расширяемых систем.\n",
    "   - Недостатки:\n",
    "     - Может приводить к избыточности и сложности при проектировании иерархий классов.\n",
    "     - Сложнее поддерживать неизменяемое состояние.\n",
    "\n",
    "2. FP:\n",
    "   - Преимущества:\n",
    "     - Легче тестировать и отлаживать чистые функции, так как они не имеют побочных эффектов.\n",
    "     - Простота параллелизма и конкурентности благодаря иммутабельности данных.\n",
    "     - Поощряет написание более модульного и переиспользуемого кода.\n",
    "   - Недостатки:\n",
    "     - Может быть непривычным для разработчиков, привыкших к императивному стилю программирования.\n",
    "     - Некоторые задачи сложнее выразить в чисто функциональном стиле.\n"
   ]
  },
  {
   "cell_type": "markdown",
   "id": "165c94d0-6548-4cc3-b9c3-5db487c7d2c0",
   "metadata": {},
   "source": [
    "#### Языки, Преимущественно Поддерживающие ООП:\n",
    "\n",
    "- **Java:** Одним из самых известных языков программирования, который строго следует принципам ООП. Java предоставляет механизмы для создания классов, наследования, инкапсуляции и полиморфизма.\n",
    "- **C++:** Этот язык также поддерживает ООП, но также предлагает низкоуровневый доступ к памяти и другие функции, которые делают его более гибким, но также сложнее в использовании.\n",
    "- **Python:** Хотя Python часто ассоциируется с функциональным программированием благодаря своей поддержке высших порядковых функций и декораторов, он также поддерживает ООП через классы и объекты.\n",
    "- **Ruby:** Ruby является еще одним языком, который поддерживает и ООП, и функциональное программирование, но его синтаксис и структура делают его более дружелюбным к ООП.\n",
    "\n",
    "#### Языки, Преимущественно Поддерживающие Функциональное Программирование:\n",
    "- **Haskell:** Haskell является классическим языком функционального программирования, который строго следует принципам функционального программирования, таких как иммутабельность и отсутствие побочных эффектов.\n",
    "- **Erlang/Elixir:** Эти языки используются для создания распределенных систем и микросервисов и поддерживают функциональное программирование с акцентом на обработку сообщений и параллелизм.\n",
    "- **F#:** Язык, разработанный Microsoft, который поддерживает функциональное программирование в .NET экосистеме.\n",
    "- **Lisp/Scheme:** Старые языки, которые были одними из первых в области функционального программирования. Они поддерживают лямбда-исчисление и другие ключевые аспекты функционального программирования."
   ]
  },
  {
   "cell_type": "markdown",
   "id": "a04e30fe-7495-4a67-964b-5a3d458b3cbe",
   "metadata": {},
   "source": [
    " "
   ]
  },
  {
   "cell_type": "markdown",
   "id": "b5ded6a1-1fda-4b6b-8b1d-b380577665c0",
   "metadata": {},
   "source": [
    "## Распаковка и запаковка аргументов (функции) [вернемся в конце]"
   ]
  },
  {
   "cell_type": "markdown",
   "id": "9fab3333-2ed0-4751-96d8-affc2413816b",
   "metadata": {},
   "source": [
    "#### Распаковка списка"
   ]
  },
  {
   "cell_type": "code",
   "execution_count": 145,
   "id": "f5058033-f23a-4e94-98fa-472d208fa37a",
   "metadata": {},
   "outputs": [
    {
     "name": "stdout",
     "output_type": "stream",
     "text": [
      "6\n"
     ]
    }
   ],
   "source": [
    "def add(a, b, c):\n",
    "    return a + b + c\n",
    "\n",
    "numbers = [1, 2, 3]\n",
    "result = add(*numbers)  \n",
    "print(result)"
   ]
  },
  {
   "cell_type": "markdown",
   "id": "17199105-80fa-4674-afa0-07a712ec972c",
   "metadata": {},
   "source": [
    "#### Распаковка словаря"
   ]
  },
  {
   "cell_type": "code",
   "execution_count": 146,
   "id": "593679cc-4910-4d1f-a874-fe4638091dd7",
   "metadata": {},
   "outputs": [
    {
     "name": "stdout",
     "output_type": "stream",
     "text": [
      "My name is Bob, I am 25 years old and I live in San Francisco.\n"
     ]
    }
   ],
   "source": [
    "def introduce(name, age, city):\n",
    "    print(f\"My name is {name}, I am {age} years old and I live in {city}.\")\n",
    "\n",
    "person_info = {\"name\": \"Bob\", \"age\": 25, \"city\": \"San Francisco\"}\n",
    "introduce(**person_info)  "
   ]
  },
  {
   "cell_type": "markdown",
   "id": "8f10f394-2566-4ea4-bbb1-cf334aad7c80",
   "metadata": {},
   "source": [
    "#### Запаковка позиционных аргументов"
   ]
  },
  {
   "cell_type": "code",
   "execution_count": null,
   "id": "645c145d-01ef-405b-aea1-3919b9c24aec",
   "metadata": {},
   "outputs": [],
   "source": [
    "def combine(*args):\n",
    "    return args\n",
    "\n",
    "combined = combine(1, 'a', True, 3.14)\n",
    "print(combined) "
   ]
  },
  {
   "cell_type": "markdown",
   "id": "441ea6d1-978f-43e0-9088-2ef3bf2b5cfc",
   "metadata": {},
   "source": [
    "#### Запаковка именованных аргументов"
   ]
  },
  {
   "cell_type": "code",
   "execution_count": null,
   "id": "52cf5fec-dca8-413b-9a80-f9004e4d20e8",
   "metadata": {},
   "outputs": [],
   "source": [
    "def collect_info(**kwargs):\n",
    "    return kwargs\n",
    "\n",
    "info = collect_info(name=\"Charlie\", age=35, job=\"Engineer\")\n",
    "print(info) "
   ]
  },
  {
   "cell_type": "markdown",
   "id": "761b8f60-4406-4292-b74e-d33650018edd",
   "metadata": {},
   "source": [
    " "
   ]
  },
  {
   "cell_type": "markdown",
   "id": "6367f9f6-c0af-4e71-a4c4-8445f1b2ffbc",
   "metadata": {},
   "source": [
    "### Примеры для других структур "
   ]
  },
  {
   "cell_type": "code",
   "execution_count": 1,
   "id": "e1773a80-0655-47ab-bc4a-ee7c7873b8b4",
   "metadata": {},
   "outputs": [
    {
     "name": "stdout",
     "output_type": "stream",
     "text": [
      "1\n",
      "[2, 3, 4, 5]\n"
     ]
    }
   ],
   "source": [
    "numbers = [1, 2, 3, 4, 5]\n",
    "first, *rest = numbers\n",
    "print(first)  \n",
    "print(rest)"
   ]
  },
  {
   "cell_type": "code",
   "execution_count": 2,
   "id": "e01c0113-cc89-4b85-95de-27b0d89b018c",
   "metadata": {},
   "outputs": [
    {
     "name": "stdout",
     "output_type": "stream",
     "text": [
      "[1, 2, 3, 4, 5, 6]\n"
     ]
    }
   ],
   "source": [
    "list1 = [1, 2, 3]\n",
    "list2 = [4, 5, 6]\n",
    "combined_list = [*list1, *list2]\n",
    "print(combined_list)"
   ]
  },
  {
   "cell_type": "code",
   "execution_count": 3,
   "id": "8c6400c9-cb6f-4153-a795-c3cfb78e30d2",
   "metadata": {},
   "outputs": [
    {
     "name": "stdout",
     "output_type": "stream",
     "text": [
      "[1, 2, 3, 4]\n",
      "5\n"
     ]
    }
   ],
   "source": [
    "numbers = [1, 2, 3, 4, 5]\n",
    "*beginning, last = numbers\n",
    "print(beginning)  \n",
    "print(last) "
   ]
  },
  {
   "cell_type": "code",
   "execution_count": 4,
   "id": "9c513776-cf7a-4f57-afdc-2e050cfe1a6c",
   "metadata": {},
   "outputs": [
    {
     "name": "stdout",
     "output_type": "stream",
     "text": [
      "1\n",
      "[2, 3, 4]\n",
      "5\n"
     ]
    }
   ],
   "source": [
    "numbers = [1, 2, 3, 4, 5]\n",
    "first, *middle, last = numbers\n",
    "print(first)   \n",
    "print(middle)  \n",
    "print(last)"
   ]
  },
  {
   "cell_type": "code",
   "execution_count": 5,
   "id": "5589fc38-3840-499d-8340-b271499db065",
   "metadata": {},
   "outputs": [
    {
     "name": "stdout",
     "output_type": "stream",
     "text": [
      "10\n",
      "[20, 30, 40]\n"
     ]
    }
   ],
   "source": [
    "tuple_values = (10, 20, 30, 40)\n",
    "first, *rest = tuple_values\n",
    "print(first)  \n",
    "print(rest)"
   ]
  },
  {
   "cell_type": "code",
   "execution_count": 6,
   "id": "86829da9-a637-4762-a38a-bd1f4ad3f692",
   "metadata": {},
   "outputs": [
    {
     "name": "stdout",
     "output_type": "stream",
     "text": [
      "{'a': 1, 'b': 2, 'c': 3, 'd': 4}\n"
     ]
    }
   ],
   "source": [
    "dict1 = {\"a\": 1, \"b\": 2}\n",
    "dict2 = {\"c\": 3, \"d\": 4}\n",
    "combined = {**dict1, **dict2}\n",
    "print(combined)"
   ]
  },
  {
   "cell_type": "code",
   "execution_count": 7,
   "id": "0fddb1c6-7b40-4283-bb9a-43c60e5d8a87",
   "metadata": {},
   "outputs": [
    {
     "name": "stdout",
     "output_type": "stream",
     "text": [
      "{1, 2, 3, 4, 5, 6}\n"
     ]
    }
   ],
   "source": [
    "set1 = {1, 2, 3}\n",
    "set2 = {4, 5, 6}\n",
    "combined_set = {*set1, *set2}\n",
    "print(combined_set) "
   ]
  },
  {
   "cell_type": "markdown",
   "id": "4a309182-a788-4e4a-bc73-4a284d549eaf",
   "metadata": {},
   "source": [
    " "
   ]
  },
  {
   "cell_type": "markdown",
   "id": "26e2c99a-a5d2-40d8-9fc7-6172b77ec6fc",
   "metadata": {},
   "source": [
    "## Множественное присваивание [вернемся в конце]"
   ]
  },
  {
   "cell_type": "code",
   "execution_count": 8,
   "id": "8219b216-64f1-4e7a-9152-74ca5c15e277",
   "metadata": {},
   "outputs": [
    {
     "name": "stdout",
     "output_type": "stream",
     "text": [
      "1\n",
      "2\n",
      "3\n"
     ]
    }
   ],
   "source": [
    "a, b, c = 1, 2, 3\n",
    "print(a)  \n",
    "print(b)  \n",
    "print(c)"
   ]
  },
  {
   "cell_type": "code",
   "execution_count": 9,
   "id": "7d41565c-89b0-4508-bab0-9077cd99a533",
   "metadata": {},
   "outputs": [
    {
     "name": "stdout",
     "output_type": "stream",
     "text": [
      "4\n",
      "5\n",
      "6\n"
     ]
    }
   ],
   "source": [
    "values = [4, 5, 6]\n",
    "x, y, z = values\n",
    "print(x)  \n",
    "print(y)  \n",
    "print(z)"
   ]
  },
  {
   "cell_type": "code",
   "execution_count": 10,
   "id": "99d46f62-795c-46e8-8999-b2405adcb76a",
   "metadata": {},
   "outputs": [
    {
     "name": "stdout",
     "output_type": "stream",
     "text": [
      "20\n",
      "10\n"
     ]
    }
   ],
   "source": [
    "a, b = 10, 20\n",
    "a, b = b, a\n",
    "print(a)  \n",
    "print(b)"
   ]
  },
  {
   "cell_type": "code",
   "execution_count": 11,
   "id": "c89d68e9-51ca-4b51-95d5-429336b886d8",
   "metadata": {},
   "outputs": [
    {
     "name": "stdout",
     "output_type": "stream",
     "text": [
      "1\n",
      "2\n"
     ]
    }
   ],
   "source": [
    "def get_coordinates():\n",
    "   return 1, 2\n",
    "\n",
    "x, y = get_coordinates()\n",
    "print(x)  \n",
    "print(y)"
   ]
  },
  {
   "cell_type": "code",
   "execution_count": 12,
   "id": "e96fdf48-4e0e-4b69-842c-df81b269c489",
   "metadata": {},
   "outputs": [
    {
     "name": "stdout",
     "output_type": "stream",
     "text": [
      "x: 1, y: 2\n",
      "x: 3, y: 4\n",
      "x: 5, y: 6\n"
     ]
    }
   ],
   "source": [
    "points = [(1, 2), (3, 4), (5, 6)]\n",
    "for x, y in points:\n",
    "   print(f\"x: {x}, y: {y}\")"
   ]
  },
  {
   "cell_type": "code",
   "execution_count": 13,
   "id": "d46a1e95-0c20-4378-92c8-1adedc1bd993",
   "metadata": {},
   "outputs": [
    {
     "name": "stdout",
     "output_type": "stream",
     "text": [
      "1\n",
      "2\n",
      "3\n",
      "4\n"
     ]
    }
   ],
   "source": [
    "data = (1, (2, 3), 4)\n",
    "a, (b, c), d = data\n",
    "print(a)  \n",
    "print(b)  \n",
    "print(c)  \n",
    "print(d) "
   ]
  },
  {
   "cell_type": "markdown",
   "id": "47374a10-3da8-4f9b-8de2-b2b462a516c7",
   "metadata": {},
   "source": [
    " "
   ]
  },
  {
   "cell_type": "markdown",
   "id": "9e303b59-d259-49f4-a86a-98df6d6b3918",
   "metadata": {},
   "source": [
    "## Тернарный оператор\n",
    "    value_if_true if condition else value_if_false"
   ]
  },
  {
   "cell_type": "code",
   "execution_count": null,
   "id": "e0778de6-3c9a-4dea-b499-d2d46bb03889",
   "metadata": {},
   "outputs": [],
   "source": [
    "if True:\n",
    "    x = 10 \n",
    "else:\n",
    "    x = 100\n",
    "\n",
    "print(x)"
   ]
  },
  {
   "cell_type": "code",
   "execution_count": null,
   "id": "e63307d6-21d0-4ff0-9832-0abfd66a501e",
   "metadata": {},
   "outputs": [],
   "source": [
    "x = 10 if True else 100\n",
    "print(x)"
   ]
  },
  {
   "cell_type": "markdown",
   "id": "81d14336-629b-49b1-bab8-9e4c49790fb5",
   "metadata": {},
   "source": [
    " "
   ]
  },
  {
   "cell_type": "markdown",
   "id": "d397a440-73fc-4604-8092-de0490b469ad",
   "metadata": {},
   "source": [
    "## List Comprehension "
   ]
  },
  {
   "cell_type": "markdown",
   "id": "ddc2ec00-6b8d-4367-84a8-09dd5756da7d",
   "metadata": {},
   "source": [
    "#### Простой пример "
   ]
  },
  {
   "cell_type": "code",
   "execution_count": 195,
   "id": "1c862fbe-cc98-4ee2-af3e-89f47bdcd907",
   "metadata": {},
   "outputs": [
    {
     "name": "stdout",
     "output_type": "stream",
     "text": [
      "[0, 1, 4, 9, 16, 25, 36, 49, 64, 81]\n",
      "[0, 1, 4, 9, 16, 25, 36, 49, 64, 81]\n"
     ]
    }
   ],
   "source": [
    "lst = []\n",
    "\n",
    "for i in range(10):\n",
    "    lst.append(i**2)\n",
    "\n",
    "print(lst)\n",
    "\n",
    "# синтаксический сахар \n",
    "print([i**2 for i in range(10)])"
   ]
  },
  {
   "cell_type": "markdown",
   "id": "309ccdec-bf6c-4f01-aaea-faba707adff9",
   "metadata": {},
   "source": [
    "#### if (фильтрует значения)"
   ]
  },
  {
   "cell_type": "code",
   "execution_count": 197,
   "id": "9d9210fb-4bbe-4ea2-92f4-306379a4eeba",
   "metadata": {},
   "outputs": [
    {
     "name": "stdout",
     "output_type": "stream",
     "text": [
      "[0, 4, 16, 36, 64]\n",
      "[0, 4, 16, 36, 64]\n"
     ]
    }
   ],
   "source": [
    "lst = []\n",
    "\n",
    "for i in range(10):\n",
    "    if i % 2 == 0:\n",
    "        lst.append(i**2)\n",
    "\n",
    "print(lst)\n",
    "\n",
    "# синтаксический сахар \n",
    "print([i**2 for i in range(10) if i % 2 == 0])"
   ]
  },
  {
   "cell_type": "markdown",
   "id": "e86e19a4-1200-4605-8b15-a7ed782a9c48",
   "metadata": {},
   "source": [
    "#### if - else (используем тернарный оператор)"
   ]
  },
  {
   "cell_type": "code",
   "execution_count": 198,
   "id": "69d37856-3b4b-4982-88ef-969c51745f4c",
   "metadata": {},
   "outputs": [
    {
     "name": "stdout",
     "output_type": "stream",
     "text": [
      "[0, 0, 2, 0, 4, 0, 6, 0, 8, 0]\n",
      "[0, 0, 2, 0, 4, 0, 6, 0, 8, 0]\n"
     ]
    }
   ],
   "source": [
    "lst = []\n",
    "\n",
    "for i in range(10):\n",
    "    if i % 2 == 0:\n",
    "        lst.append(i)\n",
    "    else: \n",
    "        lst.append(0)\n",
    "\n",
    "print(lst)\n",
    "\n",
    "# синтаксический сахар \n",
    "print([i if i % 2 == 0 else 0 for i in range(10)])"
   ]
  },
  {
   "cell_type": "markdown",
   "id": "03e48b79-4f83-4917-b7a1-e338ab958745",
   "metadata": {},
   "source": [
    "#### вложенное if - else"
   ]
  },
  {
   "cell_type": "code",
   "execution_count": 152,
   "id": "13d57044-d990-48da-8951-b31a55001e3d",
   "metadata": {},
   "outputs": [
    {
     "name": "stdout",
     "output_type": "stream",
     "text": [
      "[0, 0, 2, 0, 4, 0, 6, 0, 8, 0]\n",
      "[0, 0, 2, 0, 4, 0, 6, 0, 8, 0]\n"
     ]
    }
   ],
   "source": [
    "lst = []\n",
    "\n",
    "for i in range(10):\n",
    "    if i % 2 == 0:\n",
    "        lst.append(i)\n",
    "    else: \n",
    "        if i > 10: \n",
    "            lst.append(100)\n",
    "        else: \n",
    "            lst.append(0)\n",
    "\n",
    "print(lst)\n",
    "\n",
    "# синтаксический сахар \n",
    "print([i if i % 2 == 0 else (100 if i > 10 else 0) for i in range(10)])"
   ]
  },
  {
   "cell_type": "markdown",
   "id": "9a6c0c7e-29a5-40c8-b1cf-3d627007505e",
   "metadata": {},
   "source": [
    "#### Вложенный for  "
   ]
  },
  {
   "cell_type": "code",
   "execution_count": 156,
   "id": "b0072a45-f3b2-45cd-bd7c-42fc9cd5447b",
   "metadata": {},
   "outputs": [
    {
     "name": "stdout",
     "output_type": "stream",
     "text": [
      "['0 + 0 = 0', '0 + 1 = 1', '0 + 2 = 2', '1 + 0 = 1', '1 + 1 = 2', '1 + 2 = 3']\n",
      "['0 + 0 = 0', '0 + 1 = 1', '0 + 2 = 2', '1 + 0 = 1', '1 + 1 = 2', '1 + 2 = 3']\n"
     ]
    }
   ],
   "source": [
    "lst = []\n",
    "\n",
    "for i in range(2):\n",
    "    for j in range(3):\n",
    "        lst.append(f'{i} + {j} = {i+j}')\n",
    "\n",
    "print(lst)\n",
    "\n",
    "# синтаксический сахар \n",
    "print([f'{i} + {j} = {i+j}' for i in range(2) for j in range(3)])"
   ]
  },
  {
   "cell_type": "markdown",
   "id": "65ae1b10-c6d7-40ce-943b-a0614cf461b8",
   "metadata": {},
   "source": [
    "#### Матрица"
   ]
  },
  {
   "cell_type": "code",
   "execution_count": 160,
   "id": "fcb4358b-7d5c-4aab-964e-ad6ba449270e",
   "metadata": {},
   "outputs": [
    {
     "name": "stdout",
     "output_type": "stream",
     "text": [
      "[['0 + 0 = 0', '0 + 1 = 1', '0 + 2 = 2'], ['1 + 0 = 1', '1 + 1 = 2', '1 + 2 = 3']]\n",
      "[['0 + 0 = 0', '0 + 1 = 1', '0 + 2 = 2'], ['1 + 0 = 1', '1 + 1 = 2', '1 + 2 = 3']]\n"
     ]
    }
   ],
   "source": [
    "lst = []\n",
    "\n",
    "for i in range(2):\n",
    "    temp_list = []\n",
    "    for j in range(3):\n",
    "        temp_list.append(f'{i} + {j} = {i+j}')\n",
    "    lst.append(temp_list)\n",
    "\n",
    "print(lst)\n",
    "\n",
    "# синтаксический сахар \n",
    "print([[f'{i} + {j} = {i+j}' for j in range(3)] for i in range(2)])"
   ]
  },
  {
   "cell_type": "markdown",
   "id": "5d0655ef-e55b-47d0-bac1-31f6d76749ef",
   "metadata": {},
   "source": [
    " "
   ]
  },
  {
   "cell_type": "markdown",
   "id": "1edc83e2-9c17-4c01-8b3b-6946cc69302d",
   "metadata": {},
   "source": [
    "#### Главный приницип тут: простое - упроситить, сложное - не переусложнить "
   ]
  },
  {
   "cell_type": "markdown",
   "id": "265c8760-9959-41d5-b15c-70e752ebdcca",
   "metadata": {},
   "source": [
    " "
   ]
  },
  {
   "cell_type": "markdown",
   "id": "8df4a184-f9ed-4f6d-8870-25dbc65bf691",
   "metadata": {},
   "source": [
    "## Set Comprehension  "
   ]
  },
  {
   "cell_type": "markdown",
   "id": "e6392267-8caf-427a-a0c3-7dee31dfffc0",
   "metadata": {},
   "source": [
    "#### Наромню, как работает set "
   ]
  },
  {
   "cell_type": "code",
   "execution_count": 199,
   "id": "c90d24f3-38da-40d4-9e4b-78ade850cd65",
   "metadata": {},
   "outputs": [
    {
     "name": "stdout",
     "output_type": "stream",
     "text": [
      "[1, 2, 3, 4, 1, 2, 3, 4, 5, 6, 7, 7, 7, 7]\n",
      "{1, 2, 3, 4, 5, 6, 7}\n"
     ]
    }
   ],
   "source": [
    "lst = [1, 2, 3, 4, 1, 2, 3, 4, 5, 6, 7, 7, 7, 7]\n",
    "\n",
    "print(lst)\n",
    "print(set(lst))"
   ]
  },
  {
   "cell_type": "markdown",
   "id": "7dec75fb-1812-4592-93b6-5d1a5f6af702",
   "metadata": {},
   "source": [
    "#### Простой пример "
   ]
  },
  {
   "cell_type": "code",
   "execution_count": 200,
   "id": "971ecf75-806f-4538-9558-e64a27f02585",
   "metadata": {},
   "outputs": [
    {
     "name": "stdout",
     "output_type": "stream",
     "text": [
      "{16, 1, 4}\n"
     ]
    }
   ],
   "source": [
    "print({i**2 for i in [1, 2, 2, 4]}) # <--- можно range, но список, чтобы посмотреть на дубли "
   ]
  },
  {
   "cell_type": "markdown",
   "id": "5045ad28-d693-4671-a2b1-3b8181f09161",
   "metadata": {},
   "source": [
    "#### if "
   ]
  },
  {
   "cell_type": "code",
   "execution_count": 203,
   "id": "3ce23f5e-ef9a-4d2e-9477-a6511909e58a",
   "metadata": {},
   "outputs": [
    {
     "name": "stdout",
     "output_type": "stream",
     "text": [
      "{1, 4, 9}\n"
     ]
    }
   ],
   "source": [
    "print({i**2 for i in [1, 2, 2, 3, 4] if i**2 < 10})"
   ]
  },
  {
   "cell_type": "markdown",
   "id": "9a5e7d67-f524-4d58-b181-265ee465c149",
   "metadata": {},
   "source": [
    "#### if - else"
   ]
  },
  {
   "cell_type": "code",
   "execution_count": 209,
   "id": "55914b1c-a671-4968-aa66-d74f1cf901a1",
   "metadata": {},
   "outputs": [
    {
     "name": "stdout",
     "output_type": "stream",
     "text": [
      "{0, 2, 4, 6, 8, 1001, 1003, 1005, 1007, 1009}\n"
     ]
    }
   ],
   "source": [
    "print({i if i % 2 == 0 else i + 1000 for i in range(10)})"
   ]
  },
  {
   "cell_type": "markdown",
   "id": "28a8d16f-479c-4177-be8b-d4d912cd50a8",
   "metadata": {},
   "source": [
    "#### Вложенное if - else"
   ]
  },
  {
   "cell_type": "code",
   "execution_count": 174,
   "id": "8ffdefb9-b3f2-4362-aa43-2669152935b0",
   "metadata": {},
   "outputs": [
    {
     "name": "stdout",
     "output_type": "stream",
     "text": [
      "{0, 2, 4, 6, 8, 10, 12, 14, 16, 18, 1001, 1003, 1005, 1007, 111, 1009, 113, 115, 117, 119}\n"
     ]
    }
   ],
   "source": [
    "print({i if i % 2 == 0 else (i + 100 if i > 10 else i + 1000) for i in range(20)})"
   ]
  },
  {
   "cell_type": "code",
   "execution_count": 178,
   "id": "2765ffad-d472-44d0-8532-4b4f35547f0e",
   "metadata": {},
   "outputs": [
    {
     "name": "stdout",
     "output_type": "stream",
     "text": [
      "{0, 2, 4, 101, 6, 100, 8}\n"
     ]
    }
   ],
   "source": [
    "print({i if i % 2 == 0 else (100 if i > 5 else 101) for i in range(10)})"
   ]
  },
  {
   "cell_type": "markdown",
   "id": "21f956c6-5846-48d9-a155-1b1049485694",
   "metadata": {},
   "source": [
    " "
   ]
  },
  {
   "cell_type": "markdown",
   "id": "13521bfd-438a-46d4-9a4d-9d13a7420503",
   "metadata": {},
   "source": [
    "## Dict Comprehension  "
   ]
  },
  {
   "cell_type": "raw",
   "id": "6e0c8a3e-e890-432d-8b08-1f46a6aa7580",
   "metadata": {},
   "source": [
    "{(some_key if condition else default_key): (something_if_true if condition else something_if_false) for i in iter_object}"
   ]
  },
  {
   "cell_type": "markdown",
   "id": "b69c759d-8593-403a-a641-c435b6082045",
   "metadata": {},
   "source": [
    " "
   ]
  },
  {
   "cell_type": "markdown",
   "id": "c03c544c-ef86-43f5-91d3-ac96daafa105",
   "metadata": {},
   "source": [
    "#### Простой пример "
   ]
  },
  {
   "cell_type": "code",
   "execution_count": 163,
   "id": "b5795a48-31a4-4382-bdab-fc5c0692cdae",
   "metadata": {},
   "outputs": [
    {
     "name": "stdout",
     "output_type": "stream",
     "text": [
      "{0: 0, 1: 1, 2: 4, 3: 9, 4: 16}\n"
     ]
    }
   ],
   "source": [
    "print({i: i**2 for i in range(5)})"
   ]
  },
  {
   "cell_type": "markdown",
   "id": "b90593c6-a1c0-4b8c-a861-fa0546a9046a",
   "metadata": {},
   "source": [
    "#### if"
   ]
  },
  {
   "cell_type": "code",
   "execution_count": 165,
   "id": "e5f65ee0-83ce-4cb9-869e-774c40d11eb3",
   "metadata": {},
   "outputs": [
    {
     "name": "stdout",
     "output_type": "stream",
     "text": [
      "{0: 0, 2: 4, 4: 16}\n"
     ]
    }
   ],
   "source": [
    "print({x: x**2 for x in range(5) if x % 2 == 0})"
   ]
  },
  {
   "cell_type": "markdown",
   "id": "24137a1b-0572-464f-b428-eb804945b3a8",
   "metadata": {},
   "source": [
    "#### if - else (для словарей выглядит сложновато)"
   ]
  },
  {
   "cell_type": "code",
   "execution_count": 215,
   "id": "85627331-81fb-43ee-bc1b-ee6fea0d6594",
   "metadata": {},
   "outputs": [
    {
     "name": "stdout",
     "output_type": "stream",
     "text": [
      "('0 (ключ делится на 2)', '0 (значение делится на 3)')\n",
      "('1', '1')\n",
      "('2 (ключ делится на 2)', '2')\n",
      "('3', '3 (значение делится на 3)')\n",
      "('4 (ключ делится на 2)', '4')\n",
      "('5', '5')\n",
      "('6 (ключ делится на 2)', '6 (значение делится на 3)')\n"
     ]
    }
   ],
   "source": [
    "my_dict = {\n",
    "    f'{x} (ключ делится на 2)' if x % 2 == 0 else str(x): \n",
    "    f'{x} (значение делится на 3)' if x % 3 == 0 else str(x)\n",
    "    for x in range(7)\n",
    "}\n",
    "\n",
    "for i in my_dict.items():\n",
    "    print(i)"
   ]
  },
  {
   "cell_type": "markdown",
   "id": "cf0356d7-6f55-4c66-9bf2-7cba00b7a5a7",
   "metadata": {},
   "source": [
    " "
   ]
  },
  {
   "cell_type": "markdown",
   "id": "e664bc36-0965-40d4-8fce-b13cd93ed787",
   "metadata": {},
   "source": [
    "## Что такое lambda?"
   ]
  },
  {
   "cell_type": "markdown",
   "id": "b1bf0308-744b-4138-b42a-0f05ed99e5cb",
   "metadata": {},
   "source": [
    "`lambda` в Python — это способ создать анонимную (безымянную) функцию. Такие функции обычно используются для создания небольших, одноразовых функций на месте, где они нужны, без необходимости сначала объявлять их с помощью `def`. \n",
    "\n",
    "### Синтаксис\n",
    "\n",
    "Синтаксис `lambda` функции следующий:\n",
    "\n",
    "```python\n",
    "lambda аргументы: выражение\n",
    "```\n",
    "\n",
    "\n",
    "### Когда использовать lambda?\n",
    "\n",
    "`lambda`-функции полезны в следующих случаях:\n",
    "\n",
    "1. **Одноразовые функции**: Когда функция нужна только в одном месте и нет смысла давать ей имя.\n",
    "2. **Функции высшего порядка**: В функциях, таких как `map`, `filter` и `sorted`, которые принимают другие функции в качестве аргументов.\n",
    "3. **Упрощение кода**: Когда использование `lambda` делает код короче и более читаемым.\n",
    "\n",
    "### Ограничения\n",
    "\n",
    "1. **Ограничение на одно выражение**: `lambda` может содержать только одно выражение. Нельзя использовать многократные инструкции или сложные выражения.\n",
    "2. **Отсутствие имени**: Поскольку `lambda`-функции анонимны, их нельзя повторно использовать за пределами того места, где они определены."
   ]
  },
  {
   "cell_type": "markdown",
   "id": "49e8b6d2-cb4b-49d0-a032-231031fc8f73",
   "metadata": {},
   "source": [
    "### Примеры "
   ]
  },
  {
   "cell_type": "markdown",
   "id": "16569d78-35f8-41dc-ae7a-0461995f45c1",
   "metadata": {},
   "source": [
    "#### Сравним def и lambda "
   ]
  },
  {
   "cell_type": "code",
   "execution_count": 216,
   "id": "a3bef0cd-3093-4d52-bfde-7acb79406e2b",
   "metadata": {},
   "outputs": [
    {
     "name": "stdout",
     "output_type": "stream",
     "text": [
      "3\n",
      "3\n"
     ]
    }
   ],
   "source": [
    "# обычная функция \n",
    "def add_one(x):\n",
    "    return x + 1 \n",
    "\n",
    "print(add_one(2))\n",
    "\n",
    "# lambda функция \n",
    "add_one = lambda x: x + 1\n",
    "print(add_one(2))"
   ]
  },
  {
   "cell_type": "markdown",
   "id": "092f7e82-7f52-44bc-8926-0fce2b95a272",
   "metadata": {},
   "source": [
    "#### lambda-функции"
   ]
  },
  {
   "cell_type": "code",
   "execution_count": 217,
   "id": "8fd5a966-4df7-4e4d-8485-2d185a2ec7b0",
   "metadata": {},
   "outputs": [
    {
     "name": "stdout",
     "output_type": "stream",
     "text": [
      "3\n",
      "4\n",
      "5\n",
      "id: 4418068672 4418074912 4418070912\n",
      "500\n",
      "202\n",
      "<lambda>\n",
      "<lambda>\n",
      "<lambda>\n"
     ]
    }
   ],
   "source": [
    "add_one = lambda x: x + 1 # название перменной это НЕ название функции \n",
    "print(add_one(2))\n",
    "\n",
    "add_two = lambda x: x + 2\n",
    "print(add_two(2))\n",
    "\n",
    "add = lambda x, y: x + y\n",
    "print(add(2, 3))\n",
    "\n",
    "print('id:', id(add), id(add_one), id(add_two))\n",
    "\n",
    "# если обозвали, то можно переиспользовать\n",
    "print(add(200, 300))\n",
    "print(add_two(200))\n",
    "\n",
    "# но мы никогда не узнаем название \n",
    "print(add_one.__name__)\n",
    "print(add_two.__name__)\n",
    "print(add.__name__)"
   ]
  },
  {
   "cell_type": "markdown",
   "id": "90238cce-f6b2-4289-be26-bb2a268239bf",
   "metadata": {},
   "source": [
    " "
   ]
  },
  {
   "cell_type": "markdown",
   "id": "8c5ce7ea-dcfb-4e2d-a5a9-4856af6a287d",
   "metadata": {},
   "source": [
    "## Функция - это просто объект (как и все в питоне) "
   ]
  },
  {
   "cell_type": "code",
   "execution_count": 219,
   "id": "9b253a40-d6c8-46d4-af3a-11df6ae86b5e",
   "metadata": {},
   "outputs": [
    {
     "name": "stdout",
     "output_type": "stream",
     "text": [
      "<function example at 0x107567420>\n",
      "0\n"
     ]
    }
   ],
   "source": [
    "def example():\n",
    "    return 0 \n",
    "\n",
    "print(example)\n",
    "print(example())"
   ]
  },
  {
   "cell_type": "code",
   "execution_count": 218,
   "id": "d51ee951-3248-4229-ba21-bb97db20a1e1",
   "metadata": {},
   "outputs": [
    {
     "name": "stdout",
     "output_type": "stream",
     "text": [
      "<class 'function'> 4418071872\n"
     ]
    }
   ],
   "source": [
    "def example():\n",
    "    return 0 \n",
    "\n",
    "print(type(example), id(example))"
   ]
  },
  {
   "cell_type": "markdown",
   "id": "b73d5360-f924-47fd-8706-463fa9b8e736",
   "metadata": {},
   "source": [
    " "
   ]
  },
  {
   "cell_type": "markdown",
   "id": "c4a117c9-7dfe-472c-98ec-2c7185456dbe",
   "metadata": {},
   "source": [
    "## Функции - объекты первого порядка"
   ]
  },
  {
   "cell_type": "markdown",
   "id": "ab9b858f-1ef1-4731-ad34-be6719bea30f",
   "metadata": {},
   "source": [
    "Функции - объекты первого порядка. Это означает, что функции могут быть присваиваемы переменным, передаваться как аргументы другим функциям, возвращаться как результат из других функций и сохраняться в структурах данных, таких как списки и словари.\n",
    "\n",
    "\n",
    "### Присваивание функции переменной\n",
    "\n",
    "```python\n",
    "def greet(name):\n",
    "    return f\"Hello, {name}!\"\n",
    "\n",
    "say_hello = greet\n",
    "print(say_hello(\"Alice\"))  # Output: Hello, Alice!\n",
    "print(say_hello(\"Alice\"))\n",
    "```\n",
    "\n",
    "### Сохранение функции в списке\n",
    "\n",
    "```python\n",
    "def add(a, b):\n",
    "    return a + b\n",
    "\n",
    "def subtract(a, b):\n",
    "    return a - b\n",
    "\n",
    "operations = [add, subtract]\n",
    "print(operations[0](5, 3))  # Output: 8\n",
    "print(operations[1](5, 3))  # Output: 2\n",
    "```\n",
    "\n",
    "### Использование функций в словаре\n",
    "\n",
    "```python\n",
    "\n",
    "def add(a, b):\n",
    "    return a + b\n",
    "\n",
    "def subtract(a, b):\n",
    "    return a - b\n",
    "    \n",
    "def multiply(a, b):\n",
    "    return a * b\n",
    "\n",
    "def divide(a, b):\n",
    "    if b == 0:\n",
    "        raise ValueError(\"Cannot divide by zero\")\n",
    "    return a / b\n",
    "\n",
    "operations = {\n",
    "    'add': add,\n",
    "    'subtract': subtract,\n",
    "    'multiply': multiply,\n",
    "    'divide': divide\n",
    "}\n",
    "\n",
    "print(operations['add'](10, 5))       # Output: 15\n",
    "print(operations['subtract'](10, 5))  # Output: 5\n",
    "print(operations['multiply'](10, 5))  # Output: 50\n",
    "print(operations['divide'](10, 5))    # Output: 2.0\n",
    "```"
   ]
  },
  {
   "cell_type": "markdown",
   "id": "18119a1d-ba1f-45e8-a7ae-216710c6bbbb",
   "metadata": {},
   "source": [
    " "
   ]
  },
  {
   "cell_type": "markdown",
   "id": "157890a9-43ce-4001-804f-ad2a3d818fc6",
   "metadata": {},
   "source": [
    "## Функции высшего порядка \n",
    "\n",
    "Функция высшего порядка (higher-order function) — это функция, которая либо принимает одну или несколько функций в качестве аргументов, либо возвращает другую функцию в качестве результата (или и то, и другое). Такие функции позволяют абстрагировать и обобщать действия, что делает код более гибким и модульным."
   ]
  },
  {
   "cell_type": "markdown",
   "id": "bf5fbdfd-e67b-4270-b347-7fc26abc7048",
   "metadata": {},
   "source": [
    "#### map \n",
    "Функция map() в Python — это встроенная функция, которая применяет указанную функцию ко всем элементам итерируемого объекта (например, списка, кортежа, словаря) и возвращает итератор, содержащий результаты. Эта функция позволяет применять одну и ту же операцию к каждому элементу коллекции, что делает код более чистым и удобочитаемым."
   ]
  },
  {
   "cell_type": "code",
   "execution_count": 220,
   "id": "eb697d67-abdd-4c58-a332-5f701013bc53",
   "metadata": {},
   "outputs": [
    {
     "name": "stdout",
     "output_type": "stream",
     "text": [
      "[1, 4, 9, 16, 25]\n"
     ]
    }
   ],
   "source": [
    "def square(x):\n",
    "    return x ** 2 # возвращается значение \n",
    "\n",
    "numbers = [1, 2, 3, 4, 5]\n",
    "squared = map(square, numbers)\n",
    "print(list(squared)) \n"
   ]
  },
  {
   "cell_type": "markdown",
   "id": "c089f2a0-9e5d-47c0-901a-1f9cf626510f",
   "metadata": {},
   "source": [
    "#### filter\n",
    "Функция filter() в Python — это встроенная функция, которая позволяет фильтровать элементы итерируемого объекта (например, списка, кортежа, словаря) на основе условий, заданных функцией-предикатом. Функция filter() возвращает итератор, содержащий все те элементы исходного итерируемого объекта, для которых функция-предикат возвращает True."
   ]
  },
  {
   "cell_type": "code",
   "execution_count": 221,
   "id": "dda14a79-fc2d-4dfa-8e58-092b224a715f",
   "metadata": {},
   "outputs": [
    {
     "name": "stdout",
     "output_type": "stream",
     "text": [
      "[2, 4]\n"
     ]
    }
   ],
   "source": [
    "def is_even(x):\n",
    "    return x % 2 == 0 # возвращается bool\n",
    "\n",
    "numbers = [1, 2, 3, 4, 5]\n",
    "evens = filter(is_even, numbers)\n",
    "print(list(evens))  \n"
   ]
  },
  {
   "cell_type": "markdown",
   "id": "21d71a6b-ef38-480f-834f-a0e7ef8d22b7",
   "metadata": {},
   "source": [
    "#### reduce\n",
    "\n",
    "Функция reduce из модуля **functools** последовательно применяет функцию-аккумулятор к элементам итерируемого объекта, сводя его к единственному значению. В отличие от map и filter, reduce не возвращает новый итерируемый объект, а агрегирует значение."
   ]
  },
  {
   "cell_type": "code",
   "execution_count": 223,
   "id": "68f4f14b-2491-470b-8635-7ccc1efd6841",
   "metadata": {},
   "outputs": [
    {
     "name": "stdout",
     "output_type": "stream",
     "text": [
      "15\n"
     ]
    }
   ],
   "source": [
    "from functools import reduce\n",
    "\n",
    "def add(x, y):\n",
    "    return x + y\n",
    "\n",
    "numbers = [1, 2, 3, 4, 5]\n",
    "sum_of_numbers = reduce(add, numbers)\n",
    "print(sum_of_numbers)\n",
    "\n",
    "# 1 итерация: 1 + 2 = |__3__|\n",
    "# 2 итерация: |__3__|  + 3 = |__6__|\n",
    "# 3 итерация: |__6__|  + 4 = |__10__|\n",
    "# 4 итерация: |__10__| + 5 = |__15__|\n"
   ]
  },
  {
   "cell_type": "markdown",
   "id": "c22712e2-e06b-414c-a0ca-639fab1a222f",
   "metadata": {},
   "source": [
    "todo а если 3 числа? "
   ]
  },
  {
   "cell_type": "markdown",
   "id": "86bcddd7-2865-4be0-b385-365c5d78a94b",
   "metadata": {},
   "source": [
    "#### sorted \n",
    "Функция sorted() в Python — это встроенная функция, которая сортирует элементы итерируемого объекта (например, списка, кортежа, словаря) и возвращает новый отсортированный список. Функция sorted() позволяет сортировать элементы в порядке возрастания по умолчанию, но также поддерживает сортировку в обратном порядке и сортировку по ключу."
   ]
  },
  {
   "cell_type": "code",
   "execution_count": 224,
   "id": "c45c4cb8-00f8-4103-ba79-ae3cf9dfea8a",
   "metadata": {},
   "outputs": [
    {
     "name": "stdout",
     "output_type": "stream",
     "text": [
      "['Eva', 'Anna', 'John', 'Peter']\n"
     ]
    }
   ],
   "source": [
    "names = [\"Anna\", \"John\", \"Eva\", \"Peter\"]\n",
    "sorted_names = sorted(names, key=len)\n",
    "print(sorted_names)  "
   ]
  },
  {
   "cell_type": "markdown",
   "id": "541cc289-aff7-44ec-a6c9-3fd070d96a6c",
   "metadata": {},
   "source": [
    "#### zip\n",
    "Функция zip в Python объединяет несколько итерируемых объектов (например, списки, кортежи) в один итератор, который возвращает кортежи, состоящие из элементов, собранных из каждого итерируемого объекта по одному. Если итерируемые объекты имеют разную длину, zip останавливается на самом коротком итерируемом объекте."
   ]
  },
  {
   "cell_type": "code",
   "execution_count": 228,
   "id": "6c966dfe-c367-4b0d-86b8-932b15db230f",
   "metadata": {},
   "outputs": [
    {
     "name": "stdout",
     "output_type": "stream",
     "text": [
      "[(1, 'a'), (2, 'b'), (3, 'c')]\n"
     ]
    }
   ],
   "source": [
    "list1 = [ 1,   2,   3 ]\n",
    "list2 = ['a', 'b', 'c']\n",
    "\n",
    "zipped = zip(list1, list2)\n",
    "print(list(zipped))\n"
   ]
  },
  {
   "cell_type": "markdown",
   "id": "f4f1a97d-4d97-41c4-972d-3f76ff0a9914",
   "metadata": {},
   "source": [
    " "
   ]
  },
  {
   "cell_type": "markdown",
   "id": "7e971123-44c0-44d6-ad33-a49c71bfe9a5",
   "metadata": {},
   "source": [
    "## Функции высшего порядка + lambda"
   ]
  },
  {
   "cell_type": "markdown",
   "id": "16df615b-308f-43af-ac87-74453c54b174",
   "metadata": {},
   "source": [
    "#### map + lambda"
   ]
  },
  {
   "cell_type": "code",
   "execution_count": null,
   "id": "84baea53-3da5-43e2-98fb-f7f14e68ad8f",
   "metadata": {},
   "outputs": [],
   "source": [
    "numbers = [1, 2, 3, 4, 5]\n",
    "squared = list(map(lambda x: x**2, numbers))\n",
    "print(squared) "
   ]
  },
  {
   "cell_type": "markdown",
   "id": "f0a7ca6c-5926-448a-b5fd-56beba5211ae",
   "metadata": {},
   "source": [
    "#### filter + lambda"
   ]
  },
  {
   "cell_type": "code",
   "execution_count": null,
   "id": "bfff058e-1130-40d9-83ca-22a1f75bb1b1",
   "metadata": {},
   "outputs": [],
   "source": [
    "numbers = [1, 2, 3, 4, 5]\n",
    "even = list(filter(lambda x: x % 2 == 0, numbers))\n",
    "print(even)"
   ]
  },
  {
   "cell_type": "markdown",
   "id": "efc99acf-96b4-4c37-9faa-2004621b8763",
   "metadata": {},
   "source": [
    "#### sorted + lambda"
   ]
  },
  {
   "cell_type": "code",
   "execution_count": 227,
   "id": "00c3764e-ef6a-4028-b1c5-c1b28cb614c6",
   "metadata": {},
   "outputs": [
    {
     "name": "stdout",
     "output_type": "stream",
     "text": [
      "['banana', 'apple', 'date', 'cherry']\n"
     ]
    }
   ],
   "source": [
    "words = [\"apple\", \"banana\", \"cherry\", \"date\"]\n",
    "sorted_words = sorted(words, key=lambda x: x[-1])\n",
    "print(sorted_words) "
   ]
  },
  {
   "cell_type": "markdown",
   "id": "4942ac46-0dfb-4d14-80ed-a602c34c4212",
   "metadata": {},
   "source": [
    " "
   ]
  },
  {
   "cell_type": "markdown",
   "id": "9d50b0a8-783a-4a7e-983f-447f2a85fd25",
   "metadata": {},
   "source": [
    "## Проблема позднего замыкания в списковых включениях и `lambda`\n",
    "Когда вы создаете функции внутри списковых включений или `lambda` выражений, часто возникает проблема позднего замыкания (late binding). Это означает, что замыкаемая переменная сохраняет свое значение на момент вызова функции, а не на момент создания."
   ]
  },
  {
   "cell_type": "code",
   "execution_count": 187,
   "id": "8fb5e10c-b69f-4541-bc73-572dc030307c",
   "metadata": {},
   "outputs": [
    {
     "name": "stdout",
     "output_type": "stream",
     "text": [
      "4\n",
      "4\n",
      "4\n",
      "4\n",
      "4\n"
     ]
    }
   ],
   "source": [
    "functions = [lambda: i for i in range(5)]\n",
    "\n",
    "for f in functions:\n",
    "    print(f())"
   ]
  },
  {
   "cell_type": "code",
   "execution_count": 190,
   "id": "64f3843c-1441-4709-99e3-3b0b963109a8",
   "metadata": {},
   "outputs": [
    {
     "name": "stdout",
     "output_type": "stream",
     "text": [
      "0\n",
      "1\n",
      "2\n",
      "3\n",
      "4\n"
     ]
    }
   ],
   "source": [
    "functions = [lambda x=i: x for i in range(5)]\n",
    "\n",
    "for f in functions:\n",
    "    print(f())"
   ]
  },
  {
   "cell_type": "code",
   "execution_count": 191,
   "id": "d7e021b5-b809-4938-805e-1eadd8f241f0",
   "metadata": {},
   "outputs": [
    {
     "name": "stdout",
     "output_type": "stream",
     "text": [
      "0\n",
      "0\n",
      "0\n",
      "0\n",
      "0\n"
     ]
    }
   ],
   "source": [
    "functions = [lambda x=0: x for i in range(5)]\n",
    "\n",
    "for f in functions:\n",
    "    print(f())"
   ]
  },
  {
   "cell_type": "markdown",
   "id": "21ff942d-de89-4b60-9e2d-931d0609cff3",
   "metadata": {},
   "source": [
    " "
   ]
  },
  {
   "cell_type": "markdown",
   "id": "d2bd68e6-1a4a-427a-997f-f2184b44c159",
   "metadata": {},
   "source": [
    "## Ленивые - нужно заставить их отдавать нам элементы "
   ]
  },
  {
   "cell_type": "code",
   "execution_count": 230,
   "id": "f7486b08-37be-4300-a703-ab7b417218bb",
   "metadata": {},
   "outputs": [
    {
     "name": "stdout",
     "output_type": "stream",
     "text": [
      "<map object at 0x106597f10>\n",
      "[1, 4, 9, 16, 25]\n",
      "[]\n"
     ]
    }
   ],
   "source": [
    "numbers = [1, 2, 3, 4, 5]\n",
    "squared = map(lambda x: x**2, numbers)\n",
    "print(squared)  \n",
    "\n",
    "print(list(squared))\n",
    "print(list(squared)) # сможем посмотреть значения только 1 раз "
   ]
  },
  {
   "cell_type": "markdown",
   "id": "0cb8322b-61f6-44af-bbcd-78dad0b2b58d",
   "metadata": {},
   "source": [
    " "
   ]
  },
  {
   "cell_type": "markdown",
   "id": "681029b6-f653-44e0-a2ea-604fdaca9476",
   "metadata": {},
   "source": [
    " "
   ]
  },
  {
   "cell_type": "markdown",
   "id": "89d0c10d-d1fb-4c9c-8f22-b795ac99d921",
   "metadata": {},
   "source": [
    " "
   ]
  },
  {
   "cell_type": "markdown",
   "id": "4f9197ed-8667-41ee-bf90-62ee3536c8f7",
   "metadata": {},
   "source": [
    "## Генераторы (генератор - это всегда итератор, но итератор не всегда генератор)"
   ]
  },
  {
   "cell_type": "markdown",
   "id": "3aa6e4d2-65fa-4233-88ec-0e2deb3c9003",
   "metadata": {},
   "source": [
    "### yield = в переводе значит \"уступи дорогу\""
   ]
  },
  {
   "cell_type": "markdown",
   "id": "bc7b5c0a-c2cc-44ac-a280-73e699ad69c7",
   "metadata": {},
   "source": [
    " "
   ]
  },
  {
   "cell_type": "markdown",
   "id": "b4135450-88e0-4511-afb7-a6281ed9851e",
   "metadata": {},
   "source": [
    "**Генераторы в Python** — это специальный тип итераторов, которые позволяют нам создавать итерируемые объекты, используя простые функции. Они используют ключевое слово yield для возврата значений одному за другим, сохраняя свое состояние между вызовами. Это позволяет генераторам работать более эффективно с памятью, чем обычные списки, особенно при работе с большими объемами данных.\n",
    "\n",
    "**Как работает генератор:**\n",
    "Когда функция, содержащая yield, вызывается, она начинает выполняться до первого yield, возвращая управление вызывающему коду с текущим значением. После этого выполнение функции приостанавливается, и состояние функции сохраняется. При следующем вызове функции выполнение продолжается с того места, где оно было приостановлено, и снова возвращается управление вызывающему коду с новым значением.\n",
    "\n",
    "### Разница между списком и генератором \n",
    "\n",
    "Списки и генераторы в Python оба представляют собой структуры данных, используемые для хранения коллекций элементов. Однако они различаются по своей природе, способу создания и использованию памяти. Вот основные различия между списками и генераторами:\n",
    "\n",
    "#### 1. Создание и использование памяти\n",
    "- **Список:** При создании списка Python выделяет память под все элементы сразу. Это означает, что даже если список содержит пустые места (например, после удаления элементов), память, выделенная под эти места, не освобождается. Это может привести к ненужному расходу памяти.\n",
    "- **Генератор:** Генераторы создаются динамически и используют память эффективнее. Они генерируют значения по мере необходимости, не храня все значения в памяти одновременно. Это делает их идеальным выбором для больших наборов данных, где хранение всех элементов в памяти может быть непрактично.\n",
    "  \n",
    "#### 2. Производительность\n",
    "- **Список:** Доступ к элементам списка обычно быстрый благодаря прямому доступу по индексу. Однако операции вставки и удаления могут быть медленными, поскольку они могут потребовать сдвига большого количества элементов.\n",
    "- **Генератор:** Генераторы обеспечивают производительность, близкую к реальному времени, при переборе элементов, поскольку они генерируют каждый элемент по мере запроса. Однако доступ к элементам генератора по индексу может быть медленным, поскольку он требует прохождения через все предыдущие элементы.\n",
    "  \n",
    "#### 3. Простота использования\n",
    "- **Список:** Списки легко создавать и использовать. Они поддерживают множество методов и операций, таких как добавление, удаление, поиск и сортировка.\n",
    "- **Генератор:** Генераторы могут быть немного сложнее в использовании, особенно для новичков, поскольку они работают асинхронно и требуют понимания концепции \"yield\". Однако они могут сделать ваш код более чистым и эффективным за счет избегания ненужного хранения данных."
   ]
  },
  {
   "cell_type": "markdown",
   "id": "abc286c6-5731-48f6-b9ca-d136b3927397",
   "metadata": {},
   "source": [
    " "
   ]
  },
  {
   "cell_type": "markdown",
   "id": "061832f0-4fc6-4749-a393-0be60fa2a33b",
   "metadata": {},
   "source": [
    "#### `Generator Comprehension`"
   ]
  },
  {
   "cell_type": "code",
   "execution_count": 231,
   "id": "e3b1b27d-272b-4c0b-9913-d932392d9332",
   "metadata": {},
   "outputs": [
    {
     "name": "stdout",
     "output_type": "stream",
     "text": [
      "Первый способ\n",
      "0\n",
      "1\n",
      "4\n",
      "9\n",
      "Второй способ\n",
      "0\n",
      "1\n",
      "4\n",
      "9\n"
     ]
    },
    {
     "ename": "StopIteration",
     "evalue": "",
     "output_type": "error",
     "traceback": [
      "\u001b[0;31m---------------------------------------------------------------------------\u001b[0m",
      "\u001b[0;31mStopIteration\u001b[0m                             Traceback (most recent call last)",
      "Cell \u001b[0;32mIn[231], line 14\u001b[0m\n\u001b[1;32m     12\u001b[0m \u001b[38;5;28mprint\u001b[39m(\u001b[38;5;28mnext\u001b[39m(gen))\n\u001b[1;32m     13\u001b[0m \u001b[38;5;28mprint\u001b[39m(\u001b[38;5;28mnext\u001b[39m(gen))\n\u001b[0;32m---> 14\u001b[0m \u001b[38;5;28mprint\u001b[39m(\u001b[38;5;28mnext\u001b[39m(gen))\n",
      "\u001b[0;31mStopIteration\u001b[0m: "
     ]
    }
   ],
   "source": [
    "gen = (i**2 for i in range(4))\n",
    "\n",
    "print(\"Первый способ\")\n",
    "for i in gen:\n",
    "    print(i)\n",
    "\n",
    "print(\"Второй способ\")\n",
    "gen = (i**2 for i in range(4))\n",
    "\n",
    "print(next(gen))\n",
    "print(next(gen))\n",
    "print(next(gen))\n",
    "print(next(gen))\n",
    "print(next(gen)) # StopIteration: "
   ]
  },
  {
   "cell_type": "markdown",
   "id": "4966aeaf-8fb2-4978-a30c-159805929550",
   "metadata": {},
   "source": [
    "#### Генератор с неколькими `yield` (\"уступи дорогу\")"
   ]
  },
  {
   "cell_type": "code",
   "execution_count": 232,
   "id": "0da4f0e8-94c2-4b4f-846d-f546dea0e063",
   "metadata": {},
   "outputs": [
    {
     "name": "stdout",
     "output_type": "stream",
     "text": [
      "1\n",
      "2\n",
      "3\n"
     ]
    }
   ],
   "source": [
    "def simple_generator():\n",
    "    yield 1 # аналог return, но с возможностью вернуться \n",
    "    yield 2\n",
    "    yield 3\n",
    "\n",
    "for num in simple_generator():\n",
    "    print(num)"
   ]
  },
  {
   "cell_type": "markdown",
   "id": "1d53858b-8772-4fb6-b739-52436831c673",
   "metadata": {},
   "source": [
    "#### Генератор с `for` циклом"
   ]
  },
  {
   "cell_type": "code",
   "execution_count": 142,
   "id": "2c09a62f-6fb0-4f9e-93e8-35a4bd9c4b6a",
   "metadata": {},
   "outputs": [
    {
     "name": "stdout",
     "output_type": "stream",
     "text": [
      "5\n",
      "4\n",
      "3\n",
      "2\n",
      "1\n"
     ]
    }
   ],
   "source": [
    "def countdown(n):\n",
    "    for i in range(n, 0, -1):\n",
    "        yield i\n",
    "\n",
    "for num in countdown(5):\n",
    "    print(num)"
   ]
  },
  {
   "cell_type": "markdown",
   "id": "8b0dedbc-4b9d-483f-9646-a421a31145fa",
   "metadata": {},
   "source": [
    "#### Генератор с `while` циклом"
   ]
  },
  {
   "cell_type": "code",
   "execution_count": 234,
   "id": "06cf2736-2648-4124-bfd5-15d5c1794344",
   "metadata": {},
   "outputs": [
    {
     "name": "stdout",
     "output_type": "stream",
     "text": [
      "0\n",
      "1\n",
      "2\n",
      "3\n",
      "4\n"
     ]
    }
   ],
   "source": [
    "def infinite_counter(end, start=0):\n",
    "    while start < end: # конечный цикл \n",
    "        yield start\n",
    "        start += 1\n",
    "\n",
    "counter = infinite_counter(5)\n",
    "for _ in range(5):\n",
    "    print(next(counter))"
   ]
  },
  {
   "cell_type": "code",
   "execution_count": 143,
   "id": "5c52b851-1134-49be-a430-165814f1f313",
   "metadata": {},
   "outputs": [
    {
     "name": "stdout",
     "output_type": "stream",
     "text": [
      "0\n",
      "1\n",
      "2\n",
      "3\n",
      "4\n"
     ]
    }
   ],
   "source": [
    "def infinite_counter(start=0):\n",
    "    while True:  # бесконечный цикл \n",
    "        yield start\n",
    "        start += 1\n",
    "\n",
    "counter = infinite_counter()\n",
    "\n",
    "for _ in range(5):\n",
    "    print(next(counter))\n",
    "\n",
    "# for i in counter:\n",
    "#     print(i)"
   ]
  },
  {
   "cell_type": "markdown",
   "id": "abccd69c-0641-47e2-b8b5-5afc85c5c412",
   "metadata": {},
   "source": [
    "#### Генератор с итерированием по итерируемому объекту"
   ]
  },
  {
   "cell_type": "code",
   "execution_count": 144,
   "id": "28f005eb-0f53-453e-ac60-a216c2898a18",
   "metadata": {},
   "outputs": [
    {
     "name": "stdout",
     "output_type": "stream",
     "text": [
      "HELLO\n",
      "WORLD\n",
      "PYTHON\n"
     ]
    }
   ],
   "source": [
    "def uppercase_words(words):\n",
    "    for word in words:\n",
    "        yield word.upper()\n",
    "\n",
    "words = [\"hello\", \"world\", \"python\"]\n",
    "for word in uppercase_words(words):\n",
    "    print(word)"
   ]
  },
  {
   "cell_type": "markdown",
   "id": "089d6c83-200c-4798-bddd-064bb796c128",
   "metadata": {},
   "source": [
    "#### Генератор с условными выражениями"
   ]
  },
  {
   "cell_type": "code",
   "execution_count": 236,
   "id": "54316e69-810c-4df0-bb9d-aad8e0718150",
   "metadata": {},
   "outputs": [
    {
     "name": "stdout",
     "output_type": "stream",
     "text": [
      "0 0\n",
      "1 2\n",
      "2 4\n",
      "3 6\n",
      "4 8\n"
     ]
    }
   ],
   "source": [
    "def even_numbers(n):\n",
    "    for i in range(n):\n",
    "        if i % 2 == 0:\n",
    "            yield i\n",
    "\n",
    "for idx, num in enumerate(even_numbers(10)):\n",
    "    print(idx, num)"
   ]
  },
  {
   "cell_type": "markdown",
   "id": "b49561c5-5ba8-4256-8d4c-d441864e17df",
   "metadata": {},
   "source": [
    "#### Генератор для чтения больших файлов"
   ]
  },
  {
   "cell_type": "code",
   "execution_count": null,
   "id": "2a9534bd-88da-4a90-9ae1-6ccc3908b3fa",
   "metadata": {},
   "outputs": [],
   "source": [
    "def read_large_file(file_path):\n",
    "    with open(file_path, 'r') as file:\n",
    "        for line in file:\n",
    "            yield line.strip()\n",
    "\n",
    "for line in read_large_file('large_data.txt'):\n",
    "    print(line)\n"
   ]
  },
  {
   "cell_type": "markdown",
   "id": "5d2d539c-708b-42b5-9dce-98a7e10c4f7d",
   "metadata": {},
   "source": [
    " "
   ]
  },
  {
   "cell_type": "markdown",
   "id": "3f325c46-e3ff-40fc-ab03-14e172dc2c15",
   "metadata": {},
   "source": [
    "#### Увидим ли мы, что наш объект - генератор, через type? \n",
    "\n",
    "type() возвращает тип объекта, а не его внутреннюю структуру или поведение. То есть, даже если функция использует yield, её базовый тип остается функцией. "
   ]
  },
  {
   "cell_type": "code",
   "execution_count": 239,
   "id": "4f49138b-249a-4081-ba5f-1e8ab966138c",
   "metadata": {},
   "outputs": [
    {
     "name": "stdout",
     "output_type": "stream",
     "text": [
      "<class 'function'>\n"
     ]
    }
   ],
   "source": [
    "def even_numbers(n):\n",
    "    for i in range(n):\n",
    "        if i % 2 == 0:\n",
    "            yield i\n",
    "            \n",
    "print(type(even_numbers))"
   ]
  },
  {
   "cell_type": "markdown",
   "id": "90829535-fe2e-45e0-8c07-ea3148de14d1",
   "metadata": {},
   "source": [
    " "
   ]
  },
  {
   "cell_type": "markdown",
   "id": "27fd486e-9d64-41db-843b-605f264ffb4c",
   "metadata": {},
   "source": [
    "## Как понять, что перед нами действительно генератор, а не функция? "
   ]
  },
  {
   "cell_type": "markdown",
   "id": "36c4f5ac-e49c-4608-b488-bdef982aabd0",
   "metadata": {},
   "source": [
    "#### Познакомимся с getattr "
   ]
  },
  {
   "cell_type": "code",
   "execution_count": 245,
   "id": "5768a7cf-5207-420f-bde1-edd9f332569d",
   "metadata": {},
   "outputs": [
    {
     "ename": "AttributeError",
     "evalue": "'int' object has no attribute '__iter__'",
     "output_type": "error",
     "traceback": [
      "\u001b[0;31m---------------------------------------------------------------------------\u001b[0m",
      "\u001b[0;31mAttributeError\u001b[0m                            Traceback (most recent call last)",
      "Cell \u001b[0;32mIn[245], line 1\u001b[0m\n\u001b[0;32m----> 1\u001b[0m \u001b[38;5;28mprint\u001b[39m(\u001b[38;5;28mgetattr\u001b[39m(\u001b[38;5;241m1\u001b[39m, \u001b[38;5;124m\"\u001b[39m\u001b[38;5;124m__iter__\u001b[39m\u001b[38;5;124m\"\u001b[39m))\n",
      "\u001b[0;31mAttributeError\u001b[0m: 'int' object has no attribute '__iter__'"
     ]
    }
   ],
   "source": [
    "print(getattr(1, \"__iter__\"))"
   ]
  },
  {
   "cell_type": "code",
   "execution_count": 246,
   "id": "20416101-e6dc-4c56-913f-0d0fa448039c",
   "metadata": {},
   "outputs": [
    {
     "name": "stdout",
     "output_type": "stream",
     "text": [
      "False\n"
     ]
    }
   ],
   "source": [
    "print(getattr(1, \"__iter__\", False))"
   ]
  },
  {
   "cell_type": "code",
   "execution_count": 247,
   "id": "a2e2797d-a9b7-4f41-b4bc-2197fa7a015f",
   "metadata": {},
   "outputs": [
    {
     "name": "stdout",
     "output_type": "stream",
     "text": [
      "<method-wrapper '__iter__' of generator object at 0x1075d7920>\n"
     ]
    }
   ],
   "source": [
    "def even_numbers(n):\n",
    "    for i in range(n):\n",
    "        if i % 2 == 0:\n",
    "            yield i\n",
    "            \n",
    "print(getattr(even_numbers(6), \"__iter__\", False))"
   ]
  },
  {
   "cell_type": "markdown",
   "id": "0cca6bd1-988d-4a64-a093-23bdc6bd17d2",
   "metadata": {},
   "source": [
    "#### Как можно проверить, что перед нами действительно генератор, а не функция"
   ]
  },
  {
   "cell_type": "code",
   "execution_count": 248,
   "id": "e9ab988f-2f28-4221-9489-619d7d31fd67",
   "metadata": {},
   "outputs": [
    {
     "name": "stdout",
     "output_type": "stream",
     "text": [
      "Посмотрим на generator_function\n",
      "Это генератор\n",
      "\n",
      "\n",
      "Посмотрим на not_generator_function\n",
      "Это НЕ генератор\n"
     ]
    }
   ],
   "source": [
    "def generator_function():\n",
    "    yield 42\n",
    "\n",
    "print(\"Посмотрим на generator_function\")\n",
    "gen = generator_function()\n",
    "\n",
    "if getattr(gen, \"__iter__\", None):\n",
    "    print(\"Это генератор\")\n",
    "else:\n",
    "    print(\"Это НЕ генератор\")\n",
    "\n",
    "# --------------------------------------------\n",
    "\n",
    "def not_generator_function():\n",
    "    return 42\n",
    "    \n",
    "print(\"\\n\\nПосмотрим на not_generator_function\")\n",
    "not_gen = not_generator_function()\n",
    "\n",
    "if getattr(not_gen, \"__iter__\", None):\n",
    "    print(\"Это генератор\")\n",
    "else:\n",
    "    print(\"Это НЕ генератор\")"
   ]
  },
  {
   "cell_type": "markdown",
   "id": "4d86bdf7-3d17-473f-b55a-2f6edf1cd090",
   "metadata": {},
   "source": [
    "## Разница между yield и return \n",
    "Ключевые слова yield и return в Python оба используются для возврата значений из функций, но они служат разным целям и ведут себя по-разному во время выполнения функции.\n",
    "\n",
    "#### yield = \"уступи дорогу\"\n",
    "Тип функции: Генераторная функция.\n",
    "- Выполнение: Приостанавливает и возобновляет выполнение.\n",
    "- Возвращаемое значение: Возвращает значение по одному за раз.\n",
    "- Результат: Возвращает объект-генератор.\n",
    "- Использование памяти: Эффективно для больших последовательностей.\n",
    "- Бесконечные данные: Может представлять бесконечные последовательности.\n",
    "- Корутины: Используется для реализации корутины.\n",
    "\n",
    "#### return\n",
    "- Тип функции: Обычная функция.\n",
    "- Выполнение: Завершает выполнение функции.\n",
    "- Возвращаемое значение: Возвращает все значения сразу.\n",
    "- Результат: Возвращает указанное значение.\n",
    "- Использование памяти: Хранит все значения в памяти сразу.\n",
    "- Бесконечные данные: Не может представлять бесконечные последовательности.\n",
    "- Корутины: Не используется для корутины."
   ]
  },
  {
   "cell_type": "markdown",
   "id": "d58b73c1-0a1c-4052-9ad9-da65cf9cbbdb",
   "metadata": {},
   "source": [
    "#### Генератор (yield)"
   ]
  },
  {
   "cell_type": "code",
   "execution_count": 192,
   "id": "19f26a84-608a-4ce0-abfc-3835129e0648",
   "metadata": {},
   "outputs": [
    {
     "name": "stdout",
     "output_type": "stream",
     "text": [
      "1\n",
      "2\n",
      "3\n",
      "4\n",
      "5\n"
     ]
    }
   ],
   "source": [
    "def count_up_to(max):\n",
    "    count = 1\n",
    "    while count <= max:\n",
    "        yield  count\n",
    "        count += 1\n",
    "\n",
    "counter = count_up_to(5)\n",
    "\n",
    "for number in counter:\n",
    "    print(number)"
   ]
  },
  {
   "cell_type": "markdown",
   "id": "d176934b-5ad4-476e-95e3-b16beda2d188",
   "metadata": {},
   "source": [
    "#### Функция (return)"
   ]
  },
  {
   "cell_type": "code",
   "execution_count": 54,
   "id": "25971689-1dd8-4f66-8a5b-8b759e339e58",
   "metadata": {},
   "outputs": [
    {
     "ename": "TypeError",
     "evalue": "'int' object is not iterable",
     "output_type": "error",
     "traceback": [
      "\u001b[0;31m---------------------------------------------------------------------------\u001b[0m",
      "\u001b[0;31mTypeError\u001b[0m                                 Traceback (most recent call last)",
      "Cell \u001b[0;32mIn[54], line 9\u001b[0m\n\u001b[1;32m      5\u001b[0m         count \u001b[38;5;241m+\u001b[39m\u001b[38;5;241m=\u001b[39m \u001b[38;5;241m1\u001b[39m\n\u001b[1;32m      7\u001b[0m counter \u001b[38;5;241m=\u001b[39m count_up_to(\u001b[38;5;241m5\u001b[39m)\n\u001b[0;32m----> 9\u001b[0m \u001b[38;5;28;01mfor\u001b[39;00m number \u001b[38;5;129;01min\u001b[39;00m counter:\n\u001b[1;32m     10\u001b[0m     \u001b[38;5;28mprint\u001b[39m(number)\n",
      "\u001b[0;31mTypeError\u001b[0m: 'int' object is not iterable"
     ]
    }
   ],
   "source": [
    "def count_up_to(max):\n",
    "    count = 1\n",
    "    while count <= max:\n",
    "        return count\n",
    "        count += 1\n",
    "\n",
    "counter = count_up_to(5)\n",
    "\n",
    "for number in counter:\n",
    "    print(number)"
   ]
  },
  {
   "cell_type": "markdown",
   "id": "029c5dbf-3f9e-4ecc-959e-e09395a2bcb9",
   "metadata": {},
   "source": [
    " "
   ]
  },
  {
   "cell_type": "markdown",
   "id": "bfa97879-b8ab-4a89-9e21-d1928ef7ca35",
   "metadata": {},
   "source": [
    "## Генераторы опустошаются :( "
   ]
  },
  {
   "cell_type": "code",
   "execution_count": 249,
   "id": "ba04d9c3-5a3f-4f2b-98bc-83aa813ef1bf",
   "metadata": {},
   "outputs": [
    {
     "name": "stdout",
     "output_type": "stream",
     "text": [
      "Первый проход по генератору\n",
      "1\n",
      "2\n",
      "3\n",
      "Второй проход по генератору\n"
     ]
    },
    {
     "ename": "StopIteration",
     "evalue": "",
     "output_type": "error",
     "traceback": [
      "\u001b[0;31m---------------------------------------------------------------------------\u001b[0m",
      "\u001b[0;31mStopIteration\u001b[0m                             Traceback (most recent call last)",
      "Cell \u001b[0;32mIn[249], line 15\u001b[0m\n\u001b[1;32m     13\u001b[0m \u001b[38;5;28mprint\u001b[39m(\u001b[38;5;124m\"\u001b[39m\u001b[38;5;124mВторой проход по генератору\u001b[39m\u001b[38;5;124m\"\u001b[39m)\n\u001b[1;32m     14\u001b[0m \u001b[38;5;28;01mfor\u001b[39;00m _ \u001b[38;5;129;01min\u001b[39;00m \u001b[38;5;28mrange\u001b[39m(\u001b[38;5;241m3\u001b[39m):\n\u001b[0;32m---> 15\u001b[0m     \u001b[38;5;28mprint\u001b[39m(\u001b[38;5;28mnext\u001b[39m(gen))\n",
      "\u001b[0;31mStopIteration\u001b[0m: "
     ]
    }
   ],
   "source": [
    "def simple_generator():\n",
    "    yield 1\n",
    "    yield 2\n",
    "    yield 3\n",
    "\n",
    "\n",
    "gen = simple_generator()\n",
    "\n",
    "print(\"Первый проход по генератору\")\n",
    "for _ in range(3):\n",
    "    print(next(gen))\n",
    "\n",
    "print(\"Второй проход по генератору\")\n",
    "for _ in range(3):\n",
    "    print(next(gen)) # next кидает ошибку "
   ]
  },
  {
   "cell_type": "code",
   "execution_count": 56,
   "id": "0bbef272-2e50-4278-a2e2-f64b26216dfa",
   "metadata": {},
   "outputs": [
    {
     "name": "stdout",
     "output_type": "stream",
     "text": [
      "Первый проход по генератору\n",
      "1\n",
      "2\n",
      "3\n",
      "Второй проход по генератору\n"
     ]
    }
   ],
   "source": [
    "def simple_generator():\n",
    "    yield 1\n",
    "    yield 2\n",
    "    yield 3\n",
    "\n",
    "\n",
    "gen = simple_generator()\n",
    "\n",
    "print(\"Первый проход по генератору\")\n",
    "for i in gen:\n",
    "    print(i)\n",
    "\n",
    "print(\"Второй проход по генератору\")\n",
    "for i in gen:\n",
    "    print(i)"
   ]
  },
  {
   "cell_type": "markdown",
   "id": "3a3f751d-497a-44d2-b52b-3e0d76a78464",
   "metadata": {},
   "source": [
    " "
   ]
  },
  {
   "cell_type": "markdown",
   "id": "a82363fd-47aa-4c25-ae97-e71126e675b8",
   "metadata": {},
   "source": [
    "## Итераторы "
   ]
  },
  {
   "cell_type": "markdown",
   "id": "34b6df78-122d-40bf-b31f-dccaedd4ea10",
   "metadata": {},
   "source": [
    "- Конструктор __init__ инициализирует итератор с начальным и конечным значением.\n",
    "- Метод __iter__ возвращает сам объект итератора, что позволяет его использовать в цикле for.\n",
    "- Метод __next__ возвращает следующее значение в последовательности или вызывает исключение StopIteration, если больше нет элементов."
   ]
  },
  {
   "cell_type": "code",
   "execution_count": 85,
   "id": "7abc7547-1ad1-4c09-a9c7-827cefe44382",
   "metadata": {},
   "outputs": [
    {
     "name": "stdout",
     "output_type": "stream",
     "text": [
      "1\n",
      "2\n",
      "3\n",
      "4\n"
     ]
    }
   ],
   "source": [
    "class SimpleIterator:\n",
    "    \n",
    "    def __init__(self, start, stop):\n",
    "        self.current = start\n",
    "        self.stop = stop\n",
    "\n",
    "    def __iter__(self):\n",
    "        return self\n",
    "\n",
    "    def __next__(self): # <----- кто следующий? \n",
    "        if self.current >= self.stop:\n",
    "            raise StopIteration # <----- не забываем \n",
    "        else:\n",
    "            result = self.current\n",
    "            self.current += 1\n",
    "            return result\n",
    "\n",
    "iterator = SimpleIterator(1, 5)\n",
    "\n",
    "for num in iterator:\n",
    "    print(num)\n",
    "\n",
    "# print(next(iterator))"
   ]
  },
  {
   "cell_type": "markdown",
   "id": "21596f55-e605-4b83-b0df-e5d02826ea19",
   "metadata": {},
   "source": [
    "#### Если мы не бросим StopIteration"
   ]
  },
  {
   "cell_type": "code",
   "execution_count": 84,
   "id": "bb297189-c8aa-4cb5-817f-e59a43219210",
   "metadata": {},
   "outputs": [
    {
     "name": "stdout",
     "output_type": "stream",
     "text": [
      "Первый проход\n",
      "1\n",
      "2\n",
      "3\n",
      "4\n",
      "5\n",
      "6\n",
      "7\n",
      "8\n",
      "9\n",
      "10\n",
      "Второй проход\n",
      "11\n",
      "12\n",
      "13\n",
      "14\n",
      "15\n",
      "16\n",
      "17\n",
      "18\n",
      "19\n",
      "20\n",
      "Третий проход\n"
     ]
    }
   ],
   "source": [
    "class SimpleIterator:\n",
    "    \n",
    "    def __init__(self, start, stop):\n",
    "        self.current = start\n",
    "        self.stop = stop\n",
    "\n",
    "    def __iter__(self):\n",
    "        return self\n",
    "\n",
    "    def __next__(self):\n",
    "        result = self.current\n",
    "        self.current += 1 # <------ обратим внимание, когда увеличивается счетчик \n",
    "        return result\n",
    "\n",
    "iterator = SimpleIterator(1, 5) \n",
    "\n",
    "print('Первый проход')\n",
    "for _ in range(10): \n",
    "    print(next(iterator))\n",
    "\n",
    "print('Второй проход')\n",
    "for _ in range(10): \n",
    "    print(next(iterator))\n",
    "\n",
    "# print('Третий проход')\n",
    "# for num in iterator: # что произойдет?\n",
    "#     print(num)"
   ]
  },
  {
   "cell_type": "markdown",
   "id": "b6b27f67-e091-463b-895f-8c02d7e7fd20",
   "metadata": {},
   "source": [
    " "
   ]
  },
  {
   "cell_type": "markdown",
   "id": "3f1384bc-b045-4f94-a684-812f5739e65a",
   "metadata": {},
   "source": [
    "## Декораторы "
   ]
  },
  {
   "cell_type": "markdown",
   "id": "d9c5f05a-1f86-4b9b-bbd6-be9df7e223a7",
   "metadata": {},
   "source": [
    "**Декораторы в Python** — это функция, которая принимает другую функцию в качестве аргумента, добавляет некоторую функциональность и возвращает модифицированную функцию."
   ]
  },
  {
   "cell_type": "markdown",
   "id": "02c2930e-581a-4e80-8f25-537a74e1d788",
   "metadata": {},
   "source": [
    "#### Самый простой пример "
   ]
  },
  {
   "cell_type": "code",
   "execution_count": 251,
   "id": "195ff62f-502e-404d-9261-4548cab61fe7",
   "metadata": {},
   "outputs": [
    {
     "name": "stdout",
     "output_type": "stream",
     "text": [
      "Исходная функция say_hello: Hello!\n"
     ]
    }
   ],
   "source": [
    "def say_hello():\n",
    "    print(\"Hello!\")\n",
    "    \n",
    "print('Исходная функция say_hello:', end=' ')\n",
    "say_hello()"
   ]
  },
  {
   "cell_type": "code",
   "execution_count": 250,
   "id": "8cdf1101-953f-45b7-9b1c-c7b0a8664acc",
   "metadata": {},
   "outputs": [
    {
     "name": "stdout",
     "output_type": "stream",
     "text": [
      "Исходная функция say_hello: Hello!\n",
      "\n",
      "Обернули say_hello в декоратор:\n",
      "Something is happening before the function is called.\n",
      "Hello!\n",
      "Something is happening after the function is called.\n"
     ]
    }
   ],
   "source": [
    "def my_decorator(func):\n",
    "    def wrapper(): # <--- обычно так называют внутреннюю функцию \n",
    "        print(\"Something is happening before the function is called.\") # <--- доп функциональность \n",
    "        func() # <--- вызов исходной функции \n",
    "        print(\"Something is happening after the function is called.\") # <--- доп функциональность \n",
    "    return wrapper # <--- возвращаем именно wrapper \n",
    "\n",
    "\n",
    "def say_hello():\n",
    "    print(\"Hello!\")\n",
    "    \n",
    "print('Исходная функция say_hello:', end=' ')\n",
    "say_hello()\n",
    "\n",
    "print('\\nОбернули say_hello в декоратор:')\n",
    "my_decorator(say_hello)() # <--- передали именно функцию (объект) \n",
    "\n",
    "\n",
    "# print('\\nФункция say_hello, на которую навесили декоратор:')\n",
    "\n",
    "# @my_decorator\n",
    "# def say_hello():\n",
    "#     print(\"Hello!\")\n",
    "    \n",
    "# say_hello() # <--- вызвать чистую say_hello мы уже не сможем "
   ]
  },
  {
   "cell_type": "markdown",
   "id": "cac022c5-d861-4035-b792-d00e31a26c8d",
   "metadata": {},
   "source": [
    "#### Можно использовать сразу несколько декораторов "
   ]
  },
  {
   "cell_type": "code",
   "execution_count": 110,
   "id": "0fa0f948-7672-48d0-986f-9dae8670f7f4",
   "metadata": {},
   "outputs": [
    {
     "name": "stdout",
     "output_type": "stream",
     "text": [
      "доп функциональность первого декоратора\n",
      "Hello!\n",
      "доп функциональность второго декоратора\n"
     ]
    }
   ],
   "source": [
    "def decorator_1(func):\n",
    "    def wrapper(): \n",
    "        print(\"доп функциональность первого декоратора\") \n",
    "        func() \n",
    "    return wrapper \n",
    "\n",
    "def decorator_2(func):\n",
    "    def wrapper(): \n",
    "        func() \n",
    "        print(\"доп функциональность второго декоратора\") \n",
    "    return wrapper \n",
    "\n",
    "\n",
    "@decorator_1\n",
    "def say_hello():\n",
    "    print(\"Hello!\")\n",
    "    \n",
    "say_hello()\n",
    "\n",
    "# @decorator_2\n",
    "# def say_hello():\n",
    "#     print(\"Hello!\")\n",
    "    \n",
    "# say_hello()\n",
    "\n",
    "# @decorator_1\n",
    "# @decorator_2\n",
    "# def say_hello():\n",
    "#     print(\"Hello!\")\n",
    "    \n",
    "# say_hello()\n",
    "\n",
    "# @decorator_2\n",
    "# @decorator_1\n",
    "# def say_hello():\n",
    "#     print(\"Hello!\")\n",
    "    \n",
    "# say_hello()"
   ]
  },
  {
   "cell_type": "markdown",
   "id": "2bb5747d-f4aa-4068-89d9-50dbb1453999",
   "metadata": {},
   "source": [
    "#### Потеря информации "
   ]
  },
  {
   "cell_type": "code",
   "execution_count": 254,
   "id": "4e9dc3b8-bfdf-464b-9c7c-0fbdb08fb43e",
   "metadata": {},
   "outputs": [
    {
     "name": "stdout",
     "output_type": "stream",
     "text": [
      "This function says hello.\n",
      "greet\n"
     ]
    }
   ],
   "source": [
    "def my_decorator(func):\n",
    "    def wrapper():\n",
    "        print(\"Before calling the function\")\n",
    "        func()\n",
    "        print(\"After calling the function\")\n",
    "    return wrapper\n",
    "\n",
    "\n",
    "def greet(name):\n",
    "    \"\"\"This function says hello.\"\"\"\n",
    "    print(\"Hello!\")\n",
    "\n",
    "print(greet.__doc__)\n",
    "print(greet.__name__)\n",
    "\n",
    "\n",
    "# @my_decorator\n",
    "# def greet(name):\n",
    "#     \"\"\"This function says hello.\"\"\"\n",
    "#     print(\"Hello!\")\n",
    "\n",
    "# print(greet.__doc__)\n",
    "# print(greet.__name__)"
   ]
  },
  {
   "cell_type": "markdown",
   "id": "65cf13a1-61e3-41e3-ac08-c2153a08e4c3",
   "metadata": {},
   "source": [
    "#### Как сохранить информацию - @wraps"
   ]
  },
  {
   "cell_type": "markdown",
   "id": "5af86b9d-7b60-4d6e-9034-8a69b84eca6f",
   "metadata": {},
   "source": [
    "@wraps — это декоратор из стандартной библиотеки Python, который используется вместе с другими декораторами для сохранения метаданных оригинальной функции. Это полезно, когда вы создаете новый декоратор, который оборачивает другие функции, и хотите сохранить некоторые свойства оригинальной функции, такие как имя, документация и сигнатура аргументов."
   ]
  },
  {
   "cell_type": "code",
   "execution_count": 255,
   "id": "e3c7f534-747b-46c9-8603-eaa262d0a65c",
   "metadata": {},
   "outputs": [
    {
     "name": "stdout",
     "output_type": "stream",
     "text": [
      "This function says hello.\n",
      "greet\n",
      "This function says hello.\n",
      "greet\n"
     ]
    }
   ],
   "source": [
    "from functools import wraps\n",
    "\n",
    "def my_decorator(func):\n",
    "    @wraps(func)\n",
    "    def wrapper():\n",
    "        print(\"Before calling the function\")\n",
    "        func()\n",
    "        print(\"After calling the function\")\n",
    "    return wrapper\n",
    "\n",
    "\n",
    "def greet(name):\n",
    "    \"\"\"This function says hello.\"\"\"\n",
    "    print(\"Hello!\")\n",
    "\n",
    "print(greet.__doc__)\n",
    "print(greet.__name__)\n",
    "\n",
    "\n",
    "@my_decorator\n",
    "def greet(name):\n",
    "    \"\"\"This function says hello.\"\"\"\n",
    "    print(\"Hello!\")\n",
    "\n",
    "print(greet.__doc__)\n",
    "print(greet.__name__)"
   ]
  },
  {
   "cell_type": "markdown",
   "id": "0fca1518-b462-4ec6-a8ac-af2e9d8fd08c",
   "metadata": {},
   "source": [
    "#### Как передавать аргументы? "
   ]
  },
  {
   "cell_type": "code",
   "execution_count": 134,
   "id": "81db0871-fd5a-438f-88ec-53e994cb4774",
   "metadata": {},
   "outputs": [
    {
     "name": "stdout",
     "output_type": "stream",
     "text": [
      "<function greet at 0x107564c20>\n",
      ".\n",
      "Hello, Саша!\n",
      ".\n",
      "\n",
      ".\n",
      "Hello, Маша!\n",
      ".\n",
      "\n"
     ]
    }
   ],
   "source": [
    "from functools import wraps\n",
    "\n",
    "def my_decorator(func): # <------ интуитивно сюда хочется передать аргументы, да? \n",
    "    @wraps(func)\n",
    "    def wrapper(*args, **kwargs):\n",
    "        print(\".\")\n",
    "        func(*args, **kwargs)\n",
    "        print(\".\", end='\\n\\n')\n",
    "    return wrapper # <------ wrapper(*args, **kwargs)\n",
    "\n",
    "\n",
    "def greet(name):\n",
    "    \"\"\"This function greets someone.\"\"\"\n",
    "    print(f\"Hello, {name}!\")\n",
    "\n",
    "\n",
    "print(my_decorator(greet))\n",
    "\n",
    "my_decorator(greet)('Саша')\n",
    "my_decorator(greet)('Маша')"
   ]
  },
  {
   "cell_type": "code",
   "execution_count": 136,
   "id": "e12e29e4-a99f-4f62-82e8-c127fbee8ecf",
   "metadata": {},
   "outputs": [
    {
     "name": "stdout",
     "output_type": "stream",
     "text": [
      ".\n",
      ".\n",
      "Hello, Саша!\n",
      ".\n",
      ".\n"
     ]
    }
   ],
   "source": [
    "from functools import wraps\n",
    "\n",
    "def my_decorator(func): # <------ интуитивно сюда хочется передать аргументы, да? \n",
    "    @wraps(func)\n",
    "    def wrapper(*args, **kwargs):\n",
    "        print(\".\")\n",
    "        func(*args, **kwargs)\n",
    "        print(\".\")\n",
    "    return wrapper # <------ wrapper(*args, **kwargs)\n",
    "\n",
    "@my_decorator\n",
    "def greet(name):\n",
    "    \"\"\"This function greets someone.\"\"\"\n",
    "    print(f\"Hello, {name}!\")\n",
    "\n",
    "\n",
    "my_decorator(greet)('Саша') # почему 2 раза точки? "
   ]
  },
  {
   "cell_type": "markdown",
   "id": "b664935f-484c-4afc-8ad9-09a32d0a293d",
   "metadata": {},
   "source": [
    " "
   ]
  },
  {
   "cell_type": "markdown",
   "id": "045f83e3-3fb0-4074-9da3-fd4796056011",
   "metadata": {},
   "source": [
    "## Фабрика функций и замыкание \n",
    "\n",
    "**Фабрика функций** — это функция, которая создает и возвращает другие функции. Этот шаблон часто используется для генерации функций с определенными конфигурациями или параметрами. Фабрика функций обычно использует замыкания для сохранения состояния, необходимого для создания новой функции.\n",
    "\n",
    "**Замыкание** — это функция, которая «запоминает» окружение, в котором она была создана, даже после того, как это окружение перестало существовать. Замыкания позволяют функции иметь доступ к переменным из внешней области видимости, в которой эта функция была определена.\n"
   ]
  },
  {
   "cell_type": "code",
   "execution_count": 138,
   "id": "dc2a6cb4-d443-4e56-a9d6-92efc3509225",
   "metadata": {},
   "outputs": [
    {
     "name": "stdout",
     "output_type": "stream",
     "text": [
      "10\n",
      "15\n"
     ]
    }
   ],
   "source": [
    "def make_multiplier(factor):\n",
    "    def multiplier(x):\n",
    "        return x * factor\n",
    "    return multiplier\n",
    "\n",
    "# Создание двух разных функций умножения\n",
    "times2 = make_multiplier(2)\n",
    "times3 = make_multiplier(3)\n",
    "\n",
    "print(times2(5))  \n",
    "print(times3(5))  "
   ]
  },
  {
   "cell_type": "markdown",
   "id": "a3c6f111-99b8-4fac-b094-4e4eb344aa65",
   "metadata": {},
   "source": [
    " "
   ]
  },
  {
   "cell_type": "markdown",
   "id": "d2c7279b-791f-4a25-a7f7-76334c5fe7c3",
   "metadata": {},
   "source": [
    "## Как создать свой собственный декоратор "
   ]
  },
  {
   "cell_type": "code",
   "execution_count": 139,
   "id": "0a9449df-b4b6-4c2d-8a31-0d0b5c8146d3",
   "metadata": {},
   "outputs": [
    {
     "name": "stdout",
     "output_type": "stream",
     "text": [
      "Hello, Bob!\n",
      "Hello, Bob!\n",
      "Hello, Bob!\n"
     ]
    }
   ],
   "source": [
    "def repeat(times): # <---- это создает нам декоратор \n",
    "    \n",
    "    def decorator(func): # <---- это сам декоратор (тут замыкание)\n",
    "        \n",
    "        def wrapper(*args, **kwargs): # <---- внутр функция (как мы уже привыкли) \n",
    "            for _ in range(times):\n",
    "                func(*args, **kwargs)\n",
    "        return wrapper\n",
    "        \n",
    "    return decorator\n",
    "\n",
    "\n",
    "# @repeat(3) # <---- вызываем НЕ сам декоратор, а то, что нам его вернет  \n",
    "# def greet(name):\n",
    "#     print(f\"Hello, {name}!\")\n",
    "\n",
    "# greet(\"Bob\")\n",
    "\n",
    "\n",
    "decorator = repeat(3)\n",
    "@decorator # <---- вызываем уже сам декоратор\n",
    "def greet(name):\n",
    "    print(f\"Hello, {name}!\")\n",
    "\n",
    "greet(\"Bob\")\n"
   ]
  },
  {
   "cell_type": "markdown",
   "id": "7267e5e8-8949-4a45-aed4-e6cf9d1a9797",
   "metadata": {},
   "source": [
    " "
   ]
  },
  {
   "cell_type": "markdown",
   "id": "83cdbace-b21b-4e7b-aa18-817e7b80ed5c",
   "metadata": {},
   "source": [
    "### Как превратить список в iter? "
   ]
  },
  {
   "cell_type": "code",
   "execution_count": 261,
   "id": "81d9385d-845f-4a77-a8b2-4686fbab2c4c",
   "metadata": {},
   "outputs": [
    {
     "name": "stdout",
     "output_type": "stream",
     "text": [
      "1\n",
      "2\n",
      "3\n"
     ]
    },
    {
     "ename": "StopIteration",
     "evalue": "",
     "output_type": "error",
     "traceback": [
      "\u001b[0;31m---------------------------------------------------------------------------\u001b[0m",
      "\u001b[0;31mStopIteration\u001b[0m                             Traceback (most recent call last)",
      "Cell \u001b[0;32mIn[261], line 6\u001b[0m\n\u001b[1;32m      4\u001b[0m \u001b[38;5;28mprint\u001b[39m(\u001b[38;5;28mnext\u001b[39m(lst))\n\u001b[1;32m      5\u001b[0m \u001b[38;5;28mprint\u001b[39m(\u001b[38;5;28mnext\u001b[39m(lst))\n\u001b[0;32m----> 6\u001b[0m \u001b[38;5;28mprint\u001b[39m(\u001b[38;5;28mnext\u001b[39m(lst))\n",
      "\u001b[0;31mStopIteration\u001b[0m: "
     ]
    }
   ],
   "source": [
    "lst = iter([1, 2, 3])\n",
    "\n",
    "print(next(lst))\n",
    "print(next(lst))\n",
    "print(next(lst))\n",
    "print(next(lst))\n"
   ]
  },
  {
   "cell_type": "code",
   "execution_count": 262,
   "id": "ac2f55fd-e830-4024-b928-b70c1583787a",
   "metadata": {},
   "outputs": [
    {
     "ename": "TypeError",
     "evalue": "'list' object is not an iterator",
     "output_type": "error",
     "traceback": [
      "\u001b[0;31m---------------------------------------------------------------------------\u001b[0m",
      "\u001b[0;31mTypeError\u001b[0m                                 Traceback (most recent call last)",
      "Cell \u001b[0;32mIn[262], line 3\u001b[0m\n\u001b[1;32m      1\u001b[0m lst \u001b[38;5;241m=\u001b[39m [\u001b[38;5;241m1\u001b[39m, \u001b[38;5;241m2\u001b[39m, \u001b[38;5;241m3\u001b[39m]\n\u001b[0;32m----> 3\u001b[0m \u001b[38;5;28mprint\u001b[39m(\u001b[38;5;28mnext\u001b[39m(lst))\n\u001b[1;32m      4\u001b[0m \u001b[38;5;28mprint\u001b[39m(\u001b[38;5;28mnext\u001b[39m(lst))\n\u001b[1;32m      5\u001b[0m \u001b[38;5;28mprint\u001b[39m(\u001b[38;5;28mnext\u001b[39m(lst))\n",
      "\u001b[0;31mTypeError\u001b[0m: 'list' object is not an iterator"
     ]
    }
   ],
   "source": [
    "lst = [1, 2, 3]\n",
    "\n",
    "print(next(lst))\n",
    "print(next(lst))\n",
    "print(next(lst))\n",
    "print(next(lst))"
   ]
  },
  {
   "cell_type": "markdown",
   "id": "69a589d7-6732-4f67-9f48-6ee0b24b1e1c",
   "metadata": {},
   "source": [
    " "
   ]
  },
  {
   "cell_type": "markdown",
   "id": "edb3c3c9-1705-4ad6-a18e-820ddbb479ce",
   "metadata": {},
   "source": [
    " "
   ]
  }
 ],
 "metadata": {
  "kernelspec": {
   "display_name": "Python 3 (ipykernel)",
   "language": "python",
   "name": "python3"
  },
  "language_info": {
   "codemirror_mode": {
    "name": "ipython",
    "version": 3
   },
   "file_extension": ".py",
   "mimetype": "text/x-python",
   "name": "python",
   "nbconvert_exporter": "python",
   "pygments_lexer": "ipython3",
   "version": "3.11.4"
  }
 },
 "nbformat": 4,
 "nbformat_minor": 5
}
